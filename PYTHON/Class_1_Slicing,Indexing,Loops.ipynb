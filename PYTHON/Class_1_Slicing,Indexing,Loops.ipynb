{
 "cells": [
  {
   "cell_type": "code",
   "execution_count": 5,
   "id": "bdf7b1e2",
   "metadata": {},
   "outputs": [
    {
     "name": "stdout",
     "output_type": "stream",
     "text": [
      "03\n",
      "03\n",
      "03\n",
      "03\n"
     ]
    }
   ],
   "source": [
    "a = '26-03-2024'\n",
    "\n",
    "print(a[3:5]) # +ve\n",
    "print(a[-7:-5]) #-ve\n",
    "print(a[3:-5]) # +- \n",
    "print(a[-7:5]) # +- "
   ]
  },
  {
   "cell_type": "code",
   "execution_count": 14,
   "id": "a4bd9b65",
   "metadata": {},
   "outputs": [
    {
     "name": "stdout",
     "output_type": "stream",
     "text": [
      "0  ---->  2  ---->  -20\n",
      "1  ---->  0  ---->  -19\n",
      "2  ---->  2  ---->  -18\n",
      "3  ---->  4  ---->  -17\n",
      "4  ---->  -  ---->  -16\n",
      "5  ---->  0  ---->  -15\n",
      "6  ---->  3  ---->  -14\n",
      "7  ---->  -  ---->  -13\n",
      "8  ---->  2  ---->  -12\n",
      "9  ---->  6  ---->  -11\n",
      "10  ---->     ---->  -10\n",
      "11  ---->  0  ---->  -9\n",
      "12  ---->  8  ---->  -8\n",
      "13  ---->  :  ---->  -7\n",
      "14  ---->  5  ---->  -6\n",
      "15  ---->  1  ---->  -5\n",
      "16  ---->     ---->  -4\n",
      "17  ---->     ---->  -3\n",
      "18  ---->  P  ---->  -2\n",
      "19  ---->  M  ---->  -1\n"
     ]
    }
   ],
   "source": [
    "a = '2024-03-26 08:51  PM'\n",
    "\n",
    "\n",
    "for i in range(len(a)):\n",
    "    print(i , a[i] , i-len(a) , sep = '  ---->  ')"
   ]
  },
  {
   "cell_type": "code",
   "execution_count": 23,
   "id": "1c4321c0",
   "metadata": {},
   "outputs": [
    {
     "name": "stdout",
     "output_type": "stream",
     "text": [
      "08\n",
      "08\n",
      "08\n",
      "08\n",
      "--------------\n",
      "80\n",
      "80\n",
      "80\n",
      "80\n"
     ]
    }
   ],
   "source": [
    "a = '2024-03-26 08:51  PM'\n",
    "\n",
    "# Hours --> 08\n",
    "print(a[11:13])\n",
    "print(a[-9:-7])\n",
    "print(a[11:-7])\n",
    "print(a[-9:13])\n",
    "\n",
    "# Hours ---> 80\n",
    "\n",
    "print('--------------')\n",
    "print(a[-8:-10:-1])\n",
    "print(a[12:10:-1])\n",
    "print(a[12:-10:-1])\n",
    "print(a[-8:10:-1])"
   ]
  },
  {
   "cell_type": "code",
   "execution_count": 24,
   "id": "ecf7f5f1",
   "metadata": {},
   "outputs": [
    {
     "name": "stdout",
     "output_type": "stream",
     "text": [
      "0  ---->  2  ---->  -20\n",
      "1  ---->  0  ---->  -19\n",
      "2  ---->  2  ---->  -18\n",
      "3  ---->  4  ---->  -17\n",
      "4  ---->  -  ---->  -16\n",
      "5  ---->  0  ---->  -15\n",
      "6  ---->  3  ---->  -14\n",
      "7  ---->  -  ---->  -13\n",
      "8  ---->  2  ---->  -12\n",
      "9  ---->  6  ---->  -11\n",
      "10  ---->     ---->  -10\n",
      "11  ---->  0  ---->  -9\n",
      "12  ---->  8  ---->  -8\n",
      "13  ---->  :  ---->  -7\n",
      "14  ---->  5  ---->  -6\n",
      "15  ---->  1  ---->  -5\n",
      "16  ---->     ---->  -4\n",
      "17  ---->     ---->  -3\n",
      "18  ---->  P  ---->  -2\n",
      "19  ---->  M  ---->  -1\n"
     ]
    }
   ],
   "source": [
    "a = '2024-03-26 08:51  PM'\n",
    "\n",
    "\n",
    "for i in range(len(a)):\n",
    "    print(i , a[i] , i-len(a) , sep = '  ---->  ')"
   ]
  },
  {
   "cell_type": "code",
   "execution_count": 33,
   "id": "5d773577",
   "metadata": {},
   "outputs": [
    {
     "name": "stdout",
     "output_type": "stream",
     "text": [
      "51\n",
      "51\n",
      "51\n",
      "51\n",
      "--------------\n",
      "15\n",
      "15\n",
      "15\n",
      "15\n"
     ]
    }
   ],
   "source": [
    "a = '2024-03-26 08:51  PM'\n",
    "\n",
    "# min --> 51\n",
    "\n",
    "print(a[14:16])\n",
    "print(a[-6:-4])\n",
    "print(a[14:-4])\n",
    "print(a[-6:16])\n",
    "\n",
    "\n",
    "print('--------------')\n",
    "# min ---> 15\n",
    "\n",
    "print(a[15:13:-1])\n",
    "print(a[-5:-7:-1])\n",
    "print(a[15:-7:-1])\n",
    "print(a[-5:13:-1])"
   ]
  },
  {
   "cell_type": "markdown",
   "id": "7bfceb56",
   "metadata": {},
   "source": [
    "# Loops"
   ]
  },
  {
   "cell_type": "code",
   "execution_count": null,
   "id": "dc3b47b9",
   "metadata": {},
   "outputs": [],
   "source": [
    "For loop - Fixed iteration\n",
    "\n",
    "for var in iterable:\n",
    "    stat1\n",
    "    stat2\n",
    "    stat3\n",
    "\n",
    "While loop - Unknown iterable \n",
    "\n",
    "1. initilization\n",
    "2. condition\n",
    "3. inc / dec"
   ]
  },
  {
   "cell_type": "code",
   "execution_count": null,
   "id": "98fb76b4",
   "metadata": {},
   "outputs": [],
   "source": [
    "# How to identify a data type as an iterable\n",
    "\n",
    "\n",
    "1. len --> function should work\n",
    "\n",
    "2. print(dir(object)) ---> __iter__ should be present"
   ]
  },
  {
   "cell_type": "code",
   "execution_count": 49,
   "id": "cd825049",
   "metadata": {},
   "outputs": [
    {
     "name": "stdout",
     "output_type": "stream",
     "text": [
      "p\n",
      "y\n",
      "t\n",
      "h\n",
      "o\n",
      "n\n"
     ]
    }
   ],
   "source": [
    "for hello_world in 'python':\n",
    "    print(hello_world)"
   ]
  },
  {
   "cell_type": "code",
   "execution_count": 37,
   "id": "382cea0b",
   "metadata": {},
   "outputs": [
    {
     "name": "stdout",
     "output_type": "stream",
     "text": [
      "python\n",
      "java\n"
     ]
    }
   ],
   "source": [
    "for hello_world in ['python' , 'java']:\n",
    "    print(hello_world)"
   ]
  },
  {
   "cell_type": "code",
   "execution_count": 36,
   "id": "c04b73c4",
   "metadata": {},
   "outputs": [
    {
     "data": {
      "text/plain": [
       "2"
      ]
     },
     "execution_count": 36,
     "metadata": {},
     "output_type": "execute_result"
    }
   ],
   "source": [
    "len(['python' , 'java'])"
   ]
  },
  {
   "cell_type": "code",
   "execution_count": 39,
   "id": "822f1997",
   "metadata": {},
   "outputs": [
    {
     "name": "stdout",
     "output_type": "stream",
     "text": [
      "['__and__', '__class__', '__class_getitem__', '__contains__', '__delattr__', '__dir__', '__doc__', '__eq__', '__format__', '__ge__', '__getattribute__', '__getstate__', '__gt__', '__hash__', '__iand__', '__init__', '__init_subclass__', '__ior__', '__isub__', '__iter__', '__ixor__', '__le__', '__len__', '__lt__', '__ne__', '__new__', '__or__', '__rand__', '__reduce__', '__reduce_ex__', '__repr__', '__ror__', '__rsub__', '__rxor__', '__setattr__', '__sizeof__', '__str__', '__sub__', '__subclasshook__', '__xor__', 'add', 'clear', 'copy', 'difference', 'difference_update', 'discard', 'intersection', 'intersection_update', 'isdisjoint', 'issubset', 'issuperset', 'pop', 'remove', 'symmetric_difference', 'symmetric_difference_update', 'union', 'update']\n"
     ]
    }
   ],
   "source": [
    "print(dir(set))"
   ]
  },
  {
   "cell_type": "code",
   "execution_count": 41,
   "id": "6b19b5e6",
   "metadata": {},
   "outputs": [
    {
     "name": "stdout",
     "output_type": "stream",
     "text": [
      "python h\n",
      "python e\n",
      "python l\n",
      "python l\n",
      "python o\n"
     ]
    }
   ],
   "source": [
    "for i in 'hello':\n",
    "    print('python' , i)"
   ]
  },
  {
   "cell_type": "code",
   "execution_count": null,
   "id": "ec344463",
   "metadata": {},
   "outputs": [],
   "source": [
    "for iteration 1 --> i == 'h'\n",
    "\n",
    "    python\n",
    "    \n",
    "    \n",
    "for iteration 2 --> i = 'e'\n",
    "    python"
   ]
  },
  {
   "cell_type": "code",
   "execution_count": 42,
   "id": "2149c07c",
   "metadata": {},
   "outputs": [
    {
     "name": "stdout",
     "output_type": "stream",
     "text": [
      "python hello\n",
      "python world\n"
     ]
    }
   ],
   "source": [
    "for i in ['hello' , 'world']:\n",
    "    print('python' , i)"
   ]
  },
  {
   "cell_type": "code",
   "execution_count": 45,
   "id": "56a6b49a",
   "metadata": {},
   "outputs": [
    {
     "name": "stdout",
     "output_type": "stream",
     "text": [
      "hello h\n",
      "hello e\n",
      "hello l\n",
      "hello l\n",
      "hello o\n",
      "\n",
      "\n",
      "\n",
      "world w\n",
      "world o\n",
      "world r\n",
      "world l\n",
      "world d\n",
      "\n",
      "\n",
      "\n"
     ]
    }
   ],
   "source": [
    "for i in ['hello' , 'world']:\n",
    "    for j in i:\n",
    "        print(i,j)\n",
    "    print(end = '\\n\\n\\n')"
   ]
  },
  {
   "cell_type": "code",
   "execution_count": 52,
   "id": "39fc16f4",
   "metadata": {},
   "outputs": [
    {
     "name": "stdout",
     "output_type": "stream",
     "text": [
      "xyz age\n",
      "xyz salary\n",
      "xyz location\n",
      "pqr age\n",
      "pqr salary\n",
      "pqr location\n"
     ]
    }
   ],
   "source": [
    "a = ['xyz' , 'pqr']\n",
    "\n",
    "b = ['age' , 'salary' , 'location']\n",
    "\n",
    "e_list = []\n",
    "\n",
    "\n",
    "for i in a:\n",
    "    for j in b:\n",
    "        print(i , j)"
   ]
  },
  {
   "cell_type": "code",
   "execution_count": 57,
   "id": "68162741",
   "metadata": {},
   "outputs": [],
   "source": [
    "a = ['xyz' , 'pqr' , 'lmn']\n",
    "\n",
    "b = ['age' , 'salary' , 'location']\n",
    "\n",
    "e_list = []\n",
    "\n",
    "for i in a:\n",
    "    for j in b:\n",
    "        e_list.append(f\"{i},{j}\")"
   ]
  },
  {
   "cell_type": "code",
   "execution_count": 58,
   "id": "e29508d8",
   "metadata": {},
   "outputs": [
    {
     "data": {
      "text/plain": [
       "['xyz,age',\n",
       " 'xyz,salary',\n",
       " 'xyz,location',\n",
       " 'pqr,age',\n",
       " 'pqr,salary',\n",
       " 'pqr,location',\n",
       " 'lmn,age',\n",
       " 'lmn,salary',\n",
       " 'lmn,location']"
      ]
     },
     "execution_count": 58,
     "metadata": {},
     "output_type": "execute_result"
    }
   ],
   "source": [
    "e_list"
   ]
  },
  {
   "cell_type": "code",
   "execution_count": 69,
   "id": "84460893",
   "metadata": {},
   "outputs": [
    {
     "name": "stdout",
     "output_type": "stream",
     "text": [
      "xyz 32\n",
      "pqr 43\n",
      "lmn 23\n"
     ]
    }
   ],
   "source": [
    "a = ['xyz' , 'pqr' , 'lmn']\n",
    "\n",
    "b = [32 , 43 , 23]\n",
    "\n",
    "for i in range(len(a)):\n",
    "    print(a[i] , b[i])"
   ]
  },
  {
   "cell_type": "code",
   "execution_count": null,
   "id": "73da8b42",
   "metadata": {},
   "outputs": [],
   "source": []
  },
  {
   "cell_type": "code",
   "execution_count": null,
   "id": "3743aaa6",
   "metadata": {},
   "outputs": [],
   "source": []
  },
  {
   "cell_type": "code",
   "execution_count": null,
   "id": "65a937f3",
   "metadata": {},
   "outputs": [],
   "source": []
  }
 ],
 "metadata": {
  "kernelspec": {
   "display_name": "Python 3 (ipykernel)",
   "language": "python",
   "name": "python3"
  },
  "language_info": {
   "codemirror_mode": {
    "name": "ipython",
    "version": 3
   },
   "file_extension": ".py",
   "mimetype": "text/x-python",
   "name": "python",
   "nbconvert_exporter": "python",
   "pygments_lexer": "ipython3",
   "version": "3.11.4"
  }
 },
 "nbformat": 4,
 "nbformat_minor": 5
}
