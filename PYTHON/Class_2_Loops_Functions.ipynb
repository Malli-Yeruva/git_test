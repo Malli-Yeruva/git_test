{
 "cells": [
  {
   "cell_type": "markdown",
   "id": "8d26d128",
   "metadata": {},
   "source": [
    "# While loop\n",
    "\n",
    "\n",
    "\n",
    "1. initilization\n",
    "2. condition\n",
    "3. inc / dec"
   ]
  },
  {
   "cell_type": "code",
   "execution_count": 9,
   "id": "0dd899f5",
   "metadata": {},
   "outputs": [
    {
     "name": "stdout",
     "output_type": "stream",
     "text": [
      "Hello world\n",
      "Hello world\n",
      "Hello world\n",
      "Hello world\n",
      "Hello world\n",
      "Hello world\n"
     ]
    }
   ],
   "source": [
    "i = 0 # initilization\n",
    "\n",
    "while i<= 5: # condition\n",
    "    print('Hello world')\n",
    "    i += 1 # inc"
   ]
  },
  {
   "cell_type": "code",
   "execution_count": 11,
   "id": "8dc12adc",
   "metadata": {},
   "outputs": [
    {
     "name": "stdout",
     "output_type": "stream",
     "text": [
      "Hello world\n",
      "Hello world\n",
      "Hello world\n",
      "Hello world\n",
      "Hello world\n",
      "Hello world\n"
     ]
    }
   ],
   "source": [
    "i = 5 # initilization\n",
    "\n",
    "while i >= 0: # condition\n",
    "    print('Hello world')\n",
    "    i -= 1 # dec"
   ]
  },
  {
   "cell_type": "markdown",
   "id": "e25d606d",
   "metadata": {},
   "source": [
    "# Break , continue pass"
   ]
  },
  {
   "cell_type": "code",
   "execution_count": null,
   "id": "d2bf0571",
   "metadata": {},
   "outputs": [],
   "source": [
    "# Break ? \n",
    "\n",
    "- break out of the loop"
   ]
  },
  {
   "cell_type": "code",
   "execution_count": 12,
   "id": "02bd4396",
   "metadata": {},
   "outputs": [
    {
     "data": {
      "text/plain": [
       "[0, 1, 2, 3, 4, 5, 6, 7, 8, 9]"
      ]
     },
     "execution_count": 12,
     "metadata": {},
     "output_type": "execute_result"
    }
   ],
   "source": [
    "list(range(10))"
   ]
  },
  {
   "cell_type": "code",
   "execution_count": 13,
   "id": "1b7a78be",
   "metadata": {},
   "outputs": [
    {
     "name": "stdout",
     "output_type": "stream",
     "text": [
      "0\n",
      "1\n",
      "2\n",
      "3\n",
      "4\n",
      "5\n",
      "6\n",
      "7\n",
      "8\n",
      "9\n"
     ]
    }
   ],
   "source": [
    "for i in range(10):\n",
    "    print(i)"
   ]
  },
  {
   "cell_type": "code",
   "execution_count": 14,
   "id": "c6118452",
   "metadata": {},
   "outputs": [
    {
     "name": "stdout",
     "output_type": "stream",
     "text": [
      "0\n",
      "1\n",
      "2\n",
      "3\n",
      "4\n",
      "5\n",
      "6\n",
      "7\n",
      "8\n",
      "9\n",
      "Loop completed\n"
     ]
    }
   ],
   "source": [
    "for i in range(10):\n",
    "    print(i)\n",
    "    \n",
    "print('Loop completed')"
   ]
  },
  {
   "cell_type": "code",
   "execution_count": 16,
   "id": "73754d22",
   "metadata": {},
   "outputs": [
    {
     "name": "stdout",
     "output_type": "stream",
     "text": [
      "0\n",
      "1\n",
      "2\n",
      "Loop completed\n"
     ]
    }
   ],
   "source": [
    "for i in range(10):\n",
    "    if i == 3:\n",
    "        break\n",
    "    print(i)\n",
    "    \n",
    "print('Loop completed')"
   ]
  },
  {
   "cell_type": "code",
   "execution_count": 15,
   "id": "a6b691fd",
   "metadata": {},
   "outputs": [
    {
     "data": {
      "text/plain": [
       "[0, 1, 2, 3, 4, 5, 6, 7, 8, 9]"
      ]
     },
     "execution_count": 15,
     "metadata": {},
     "output_type": "execute_result"
    }
   ],
   "source": [
    "list(range(10))"
   ]
  },
  {
   "cell_type": "code",
   "execution_count": null,
   "id": "00ea5b6e",
   "metadata": {},
   "outputs": [],
   "source": [
    "- current\n",
    "\n",
    "- remaining iteration\n",
    "\n",
    "- both"
   ]
  },
  {
   "cell_type": "markdown",
   "id": "34ef4c55",
   "metadata": {},
   "source": [
    "# continue ? \n",
    "\n",
    "- break out of the loop"
   ]
  },
  {
   "cell_type": "code",
   "execution_count": 17,
   "id": "c1249187",
   "metadata": {},
   "outputs": [
    {
     "name": "stdout",
     "output_type": "stream",
     "text": [
      "0\n",
      "1\n",
      "2\n",
      "4\n",
      "5\n",
      "6\n",
      "7\n",
      "8\n",
      "9\n",
      "Loop completed\n"
     ]
    }
   ],
   "source": [
    "for i in range(10):\n",
    "    if i == 3:\n",
    "        continue\n",
    "    print(i)\n",
    "    \n",
    "print('Loop completed')"
   ]
  },
  {
   "cell_type": "code",
   "execution_count": 19,
   "id": "38456cb5",
   "metadata": {},
   "outputs": [],
   "source": [
    "# while True:\n",
    "#     print('Hello world')"
   ]
  },
  {
   "cell_type": "code",
   "execution_count": null,
   "id": "457495cc",
   "metadata": {},
   "outputs": [],
   "source": [
    "web page\n",
    "\n",
    "\n",
    "enter the email : xyz@gmail.com\n",
    "enter the password : python\n",
    "    \n",
    "    if the details are correct --> print('Logged in ') (Close the program)\n",
    "    \n",
    "if the details are incorrect -->\n",
    "display one message --> wrong input \n",
    "do you want to retry ? y / n \n",
    "\n",
    "y ---> repeat the process from the begining\n",
    "n --> Have a nice program"
   ]
  },
  {
   "cell_type": "code",
   "execution_count": 20,
   "id": "468d4273",
   "metadata": {},
   "outputs": [],
   "source": [
    "user_name = 'xyz@gmail.com'\n",
    "password = 'python'"
   ]
  },
  {
   "cell_type": "code",
   "execution_count": 24,
   "id": "a731b338",
   "metadata": {},
   "outputs": [
    {
     "name": "stdout",
     "output_type": "stream",
     "text": [
      "Enter your mail : xyz@gmail.com\n",
      "Enter the password : python\n",
      "Logged in\n"
     ]
    }
   ],
   "source": [
    "while True:\n",
    "    a = input('Enter your mail : ')\n",
    "    b = input('Enter the password : ')\n",
    "    \n",
    "    if (a == user_name) and (b == password):\n",
    "        print('Logged in')\n",
    "        break\n",
    "    else:\n",
    "        print('Wrong input')\n",
    "        d = input('Do you want to retry y/n ? ')\n",
    "        if d == 'y':\n",
    "            continue\n",
    "        else:\n",
    "            print('Hve a nice day')\n",
    "            break"
   ]
  },
  {
   "cell_type": "code",
   "execution_count": 26,
   "id": "31f960e6",
   "metadata": {},
   "outputs": [
    {
     "name": "stdout",
     "output_type": "stream",
     "text": [
      "Enter a number : 5\n",
      "Enter a number : 6\n",
      "Enter a number : 34\n",
      "Enter a number : 5\n",
      "Enter a number : 6\n",
      "Enter a number : 7\n",
      "Enter a number : 4\n",
      "Enter a number : 5\n",
      "Enter a number : 667\n",
      "Enter a number : 0\n"
     ]
    }
   ],
   "source": [
    "while True:\n",
    "    a = eval(input('Enter a number : '))\n",
    "    if a == 0:\n",
    "        break\n",
    "    else:\n",
    "        continue   \n",
    "    print('Hello world')"
   ]
  },
  {
   "cell_type": "code",
   "execution_count": 27,
   "id": "43900f8e",
   "metadata": {},
   "outputs": [
    {
     "name": "stdout",
     "output_type": "stream",
     "text": [
      "0\n",
      "1\n",
      "2\n",
      "3\n",
      "4\n",
      "5\n",
      "6\n",
      "7\n",
      "8\n",
      "9\n",
      "Loop completed\n"
     ]
    }
   ],
   "source": [
    "for i in range(10):\n",
    "    print(i)\n",
    "    \n",
    "print('Loop completed')"
   ]
  },
  {
   "cell_type": "code",
   "execution_count": 29,
   "id": "75e3bc64",
   "metadata": {},
   "outputs": [
    {
     "name": "stdout",
     "output_type": "stream",
     "text": [
      "0\n",
      "1\n",
      "2\n",
      "3\n",
      "4\n",
      "5\n",
      "6\n",
      "7\n",
      "8\n",
      "9\n",
      "Loop completed\n"
     ]
    }
   ],
   "source": [
    "for i in range(10):\n",
    "    print(i)\n",
    "else:\n",
    "    print('Loop completed')"
   ]
  },
  {
   "cell_type": "code",
   "execution_count": 31,
   "id": "7fae8fb1",
   "metadata": {},
   "outputs": [
    {
     "name": "stdout",
     "output_type": "stream",
     "text": [
      "0\n",
      "1\n",
      "2\n",
      "Loop completed\n"
     ]
    }
   ],
   "source": [
    "for i in range(10):\n",
    "    if i == 3:\n",
    "        break\n",
    "    print(i)\n",
    "    \n",
    "print('Loop completed')"
   ]
  },
  {
   "cell_type": "code",
   "execution_count": 30,
   "id": "b11c788e",
   "metadata": {},
   "outputs": [
    {
     "data": {
      "text/plain": [
       "[0, 1, 2, 3, 4, 5, 6, 7, 8, 9]"
      ]
     },
     "execution_count": 30,
     "metadata": {},
     "output_type": "execute_result"
    }
   ],
   "source": [
    "list(range(10))"
   ]
  },
  {
   "cell_type": "code",
   "execution_count": 32,
   "id": "7da9afdc",
   "metadata": {},
   "outputs": [
    {
     "name": "stdout",
     "output_type": "stream",
     "text": [
      "0\n",
      "1\n",
      "2\n"
     ]
    }
   ],
   "source": [
    "for i in range(10):\n",
    "    if i == 3:\n",
    "        break\n",
    "    print(i)\n",
    "else:   \n",
    "    print('Loop completed')"
   ]
  },
  {
   "cell_type": "code",
   "execution_count": 35,
   "id": "07bab41c",
   "metadata": {},
   "outputs": [
    {
     "name": "stdout",
     "output_type": "stream",
     "text": [
      "Enter the file name you are searching for : k\n",
      "File was not found\n"
     ]
    }
   ],
   "source": [
    "lst =  ['a' , 'b' , 'c' , 'd']\n",
    "\n",
    "a = input('Enter the file name you are searching for : ')\n",
    "\n",
    "for i in lst:\n",
    "    if i == a:\n",
    "        print('File is found')\n",
    "        break\n",
    "else:\n",
    "    print('File was not found')"
   ]
  },
  {
   "cell_type": "code",
   "execution_count": 44,
   "id": "90acc53d",
   "metadata": {},
   "outputs": [
    {
     "name": "stdout",
     "output_type": "stream",
     "text": [
      "Enter a number : 2\n",
      "Prime number\n"
     ]
    }
   ],
   "source": [
    "a = int(input('Enter a number : '))\n",
    "\n",
    "for i in range(2,a):\n",
    "    if a % i == 0:\n",
    "        print('Not a prime')\n",
    "        break\n",
    "else:\n",
    "    print('Prime number')"
   ]
  },
  {
   "cell_type": "markdown",
   "id": "7e0d4892",
   "metadata": {},
   "source": [
    "# Pass"
   ]
  },
  {
   "cell_type": "code",
   "execution_count": 49,
   "id": "131339fa",
   "metadata": {},
   "outputs": [
    {
     "name": "stdout",
     "output_type": "stream",
     "text": [
      "Alternate logic\n"
     ]
    }
   ],
   "source": [
    "a = 10\n",
    "b = 20\n",
    "\n",
    "\n",
    "if a > b:\n",
    "    pass\n",
    "else:\n",
    "    print('Alternate logic')"
   ]
  },
  {
   "cell_type": "code",
   "execution_count": 51,
   "id": "1e28226e",
   "metadata": {},
   "outputs": [],
   "source": [
    "def function():\n",
    "    pass"
   ]
  },
  {
   "cell_type": "code",
   "execution_count": 4,
   "id": "d2080258",
   "metadata": {},
   "outputs": [],
   "source": [
    "def func_a():\n",
    "    return 'a'\n",
    "\n",
    "def funct_b():\n",
    "    return 't'\n",
    "\n",
    "def funct_c():\n",
    "    return 'c'"
   ]
  },
  {
   "cell_type": "code",
   "execution_count": 5,
   "id": "afa0050d",
   "metadata": {},
   "outputs": [
    {
     "name": "stdout",
     "output_type": "stream",
     "text": [
      "Function b has logic error\n"
     ]
    }
   ],
   "source": [
    "if func_a() == 'a':\n",
    "    pass\n",
    "else:\n",
    "    print('Function a has logic error')\n",
    "    \n",
    "if funct_b() == 'b':\n",
    "    pass\n",
    "else:\n",
    "    print('Function b has logic error')\n",
    "    \n",
    "if funct_c() == 'c':\n",
    "    pass\n",
    "else:\n",
    "    print('Function c has logic error')"
   ]
  },
  {
   "cell_type": "markdown",
   "id": "ee4b8074",
   "metadata": {},
   "source": [
    "# Functions"
   ]
  },
  {
   "cell_type": "code",
   "execution_count": null,
   "id": "0baaf697",
   "metadata": {},
   "outputs": [],
   "source": [
    "\n",
    "\n",
    "1. function defination --> define the logic\n",
    "\n",
    "def function(parameter):\n",
    "    stat1\n",
    "    stat2\n",
    "    stat3\n",
    "    return stat4\n",
    "\n",
    "2. function call ---> we execute the function when you call\n",
    "function(arguments)\n",
    "\n",
    "\n",
    "parameter and return is optional\n",
    "\n",
    "if parameter are used then arguments should be there\n",
    "\n",
    "if return is not used by defualt every function returns None"
   ]
  },
  {
   "cell_type": "code",
   "execution_count": 7,
   "id": "90201266",
   "metadata": {},
   "outputs": [
    {
     "name": "stdout",
     "output_type": "stream",
     "text": [
      "40\n"
     ]
    }
   ],
   "source": [
    "n1 = 10\n",
    "n2 = 30\n",
    "\n",
    "print(n1+n2)"
   ]
  },
  {
   "cell_type": "code",
   "execution_count": 8,
   "id": "a9146d95",
   "metadata": {},
   "outputs": [],
   "source": [
    "def adder():\n",
    "    print(10+30)"
   ]
  },
  {
   "cell_type": "code",
   "execution_count": 10,
   "id": "fc00ee6e",
   "metadata": {},
   "outputs": [
    {
     "name": "stdout",
     "output_type": "stream",
     "text": [
      "40\n",
      "40\n",
      "40\n",
      "40\n"
     ]
    }
   ],
   "source": [
    "adder()\n",
    "adder()\n",
    "adder()\n",
    "adder()"
   ]
  },
  {
   "cell_type": "code",
   "execution_count": 11,
   "id": "7832188c",
   "metadata": {},
   "outputs": [],
   "source": [
    "def adder(a,b):\n",
    "    print(a+b)"
   ]
  },
  {
   "cell_type": "code",
   "execution_count": 14,
   "id": "8441ea4a",
   "metadata": {},
   "outputs": [
    {
     "name": "stdout",
     "output_type": "stream",
     "text": [
      "30\n",
      "50\n"
     ]
    }
   ],
   "source": [
    "adder(10,20)\n",
    "adder(30,20)"
   ]
  },
  {
   "cell_type": "code",
   "execution_count": 16,
   "id": "168313da",
   "metadata": {},
   "outputs": [],
   "source": [
    "def adder(a,b):\n",
    "    c = a+b\n",
    "    print(c)"
   ]
  },
  {
   "cell_type": "code",
   "execution_count": 18,
   "id": "226a2612",
   "metadata": {},
   "outputs": [
    {
     "name": "stdout",
     "output_type": "stream",
     "text": [
      "30\n"
     ]
    }
   ],
   "source": [
    "re = adder(10,20)"
   ]
  },
  {
   "cell_type": "code",
   "execution_count": 19,
   "id": "3173a132",
   "metadata": {},
   "outputs": [
    {
     "name": "stdout",
     "output_type": "stream",
     "text": [
      "None\n"
     ]
    }
   ],
   "source": [
    "print(re)"
   ]
  },
  {
   "cell_type": "code",
   "execution_count": 20,
   "id": "4ca26531",
   "metadata": {},
   "outputs": [],
   "source": [
    "def adder(a,b):\n",
    "    c = a+b\n",
    "    return c"
   ]
  },
  {
   "cell_type": "code",
   "execution_count": 21,
   "id": "829b6151",
   "metadata": {},
   "outputs": [],
   "source": [
    "re = adder(10,20)"
   ]
  },
  {
   "cell_type": "code",
   "execution_count": 22,
   "id": "cd017796",
   "metadata": {},
   "outputs": [
    {
     "name": "stdout",
     "output_type": "stream",
     "text": [
      "30\n"
     ]
    }
   ],
   "source": [
    "print(re)"
   ]
  },
  {
   "cell_type": "code",
   "execution_count": 24,
   "id": "20dbb122",
   "metadata": {},
   "outputs": [],
   "source": [
    "def adder(a,b):\n",
    "    c = a+b\n",
    "    d = a-b\n",
    "    return c\n",
    "    return d"
   ]
  },
  {
   "cell_type": "code",
   "execution_count": 25,
   "id": "fcf913d7",
   "metadata": {},
   "outputs": [
    {
     "data": {
      "text/plain": [
       "30"
      ]
     },
     "execution_count": 25,
     "metadata": {},
     "output_type": "execute_result"
    }
   ],
   "source": [
    "adder(10,20)"
   ]
  },
  {
   "cell_type": "code",
   "execution_count": 29,
   "id": "b78b5300",
   "metadata": {},
   "outputs": [],
   "source": [
    "def adder(a,b):\n",
    "    c = a+b\n",
    "    d = a-b\n",
    "    return c,d"
   ]
  },
  {
   "cell_type": "code",
   "execution_count": 31,
   "id": "00ba9585",
   "metadata": {},
   "outputs": [],
   "source": [
    "re_1 , re_2  = adder(10,20)"
   ]
  },
  {
   "cell_type": "code",
   "execution_count": 32,
   "id": "8ba7928e",
   "metadata": {},
   "outputs": [
    {
     "data": {
      "text/plain": [
       "30"
      ]
     },
     "execution_count": 32,
     "metadata": {},
     "output_type": "execute_result"
    }
   ],
   "source": [
    "re_1"
   ]
  },
  {
   "cell_type": "code",
   "execution_count": 34,
   "id": "987db405",
   "metadata": {},
   "outputs": [
    {
     "data": {
      "text/plain": [
       "-10"
      ]
     },
     "execution_count": 34,
     "metadata": {},
     "output_type": "execute_result"
    }
   ],
   "source": [
    "re_2"
   ]
  },
  {
   "cell_type": "code",
   "execution_count": 35,
   "id": "ae8e9514",
   "metadata": {},
   "outputs": [],
   "source": [
    "def palindrom(w):\n",
    "    if w == w[::-1]:\n",
    "        return 'Palindrom'\n",
    "    else:\n",
    "        return 'Not a palindrom'"
   ]
  },
  {
   "cell_type": "code",
   "execution_count": 36,
   "id": "9e10144f",
   "metadata": {},
   "outputs": [
    {
     "data": {
      "text/plain": [
       "'Palindrom'"
      ]
     },
     "execution_count": 36,
     "metadata": {},
     "output_type": "execute_result"
    }
   ],
   "source": [
    "palindrom('level')"
   ]
  },
  {
   "cell_type": "code",
   "execution_count": 37,
   "id": "5ed45688",
   "metadata": {},
   "outputs": [
    {
     "data": {
      "text/plain": [
       "'Not a palindrom'"
      ]
     },
     "execution_count": 37,
     "metadata": {},
     "output_type": "execute_result"
    }
   ],
   "source": [
    "palindrom('python')"
   ]
  },
  {
   "cell_type": "code",
   "execution_count": 47,
   "id": "6046e68a",
   "metadata": {},
   "outputs": [],
   "source": [
    "def function(l):\n",
    "    for i in l:\n",
    "        return i*2"
   ]
  },
  {
   "cell_type": "code",
   "execution_count": 48,
   "id": "8e07e60e",
   "metadata": {},
   "outputs": [
    {
     "data": {
      "text/plain": [
       "4"
      ]
     },
     "execution_count": 48,
     "metadata": {},
     "output_type": "execute_result"
    }
   ],
   "source": [
    "function([2,3,4,5])"
   ]
  },
  {
   "cell_type": "code",
   "execution_count": 49,
   "id": "7fce063e",
   "metadata": {},
   "outputs": [],
   "source": [
    "def function(l):\n",
    "    for i in l:\n",
    "        yield i*2"
   ]
  },
  {
   "cell_type": "code",
   "execution_count": 50,
   "id": "eb0e9357",
   "metadata": {},
   "outputs": [
    {
     "data": {
      "text/plain": [
       "[4, 6, 8, 10]"
      ]
     },
     "execution_count": 50,
     "metadata": {},
     "output_type": "execute_result"
    }
   ],
   "source": [
    "list(function([2,3,4,5]))"
   ]
  },
  {
   "cell_type": "code",
   "execution_count": 51,
   "id": "103098dd",
   "metadata": {},
   "outputs": [],
   "source": [
    "def function(i):\n",
    "    return i*2"
   ]
  },
  {
   "cell_type": "code",
   "execution_count": 53,
   "id": "6a655a3d",
   "metadata": {},
   "outputs": [
    {
     "data": {
      "text/plain": [
       "[4, 6, 8, 10]"
      ]
     },
     "execution_count": 53,
     "metadata": {},
     "output_type": "execute_result"
    }
   ],
   "source": [
    "list(map(function , [2,3,4,5]))"
   ]
  },
  {
   "cell_type": "markdown",
   "id": "5acf873c",
   "metadata": {},
   "source": [
    "# Functions"
   ]
  },
  {
   "cell_type": "code",
   "execution_count": null,
   "id": "1517e46e",
   "metadata": {},
   "outputs": [],
   "source": []
  }
 ],
 "metadata": {
  "kernelspec": {
   "display_name": "Python 3 (ipykernel)",
   "language": "python",
   "name": "python3"
  },
  "language_info": {
   "codemirror_mode": {
    "name": "ipython",
    "version": 3
   },
   "file_extension": ".py",
   "mimetype": "text/x-python",
   "name": "python",
   "nbconvert_exporter": "python",
   "pygments_lexer": "ipython3",
   "version": "3.11.4"
  }
 },
 "nbformat": 4,
 "nbformat_minor": 5
}
